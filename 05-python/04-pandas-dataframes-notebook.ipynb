{
  "cells": [
    {
      "cell_type": "markdown",
      "metadata": {
        "id": "k23pm6f83Flg"
      },
      "source": [
        "## DataFrames with Pandas (Data Containers IV)\n",
        "\n",
        "- `pd.DataFrame({})` produces a DataFrame from a dictionary\n",
        "- `pd.DataFrame(dict(list(zip([],[]))))` produces a DataFrame from a list of names and list of lists"
      ]
    },
    {
      "cell_type": "code",
      "execution_count": 93,
      "metadata": {
        "id": "-ybckpl43R70"
      },
      "outputs": [],
      "source": [
        "foo1 = [True, False, False, True, True, False]\n",
        "foo2 = [\"Liver\", \"Brain\", \"Testes\", \"Muscle\", \"Intestine\", \"Heart\"]\n",
        "foo3 = [13, 88, 1233, 55, 233, 18]"
      ]
    },
    {
      "cell_type": "code",
      "execution_count": 94,
      "metadata": {
        "id": "nwS4wRGM3iSg"
      },
      "outputs": [],
      "source": [
        "# We have already imported pandas as pd\n",
        "# use a dictionary to get a data frame\n",
        "foo_df = pd.DataFrame({'healthy': foo1, \n",
        "                       'tissue': foo2, \n",
        "                       'quantity': foo3})"
      ]
    },
    {
      "cell_type": "code",
      "execution_count": 95,
      "metadata": {
        "colab": {
          "base_uri": "https://localhost:8080/",
          "height": 233
        },
        "id": "3pZLmhaw35Sk",
        "outputId": "3afb2d73-7193-4777-a3a9-c037dc3a6ceb"
      },
      "outputs": [
        {
          "data": {
            "text/html": [
              "<div>\n",
              "<style scoped>\n",
              "    .dataframe tbody tr th:only-of-type {\n",
              "        vertical-align: middle;\n",
              "    }\n",
              "\n",
              "    .dataframe tbody tr th {\n",
              "        vertical-align: top;\n",
              "    }\n",
              "\n",
              "    .dataframe thead th {\n",
              "        text-align: right;\n",
              "    }\n",
              "</style>\n",
              "<table border=\"1\" class=\"dataframe\">\n",
              "  <thead>\n",
              "    <tr style=\"text-align: right;\">\n",
              "      <th></th>\n",
              "      <th>healthy</th>\n",
              "      <th>tissue</th>\n",
              "      <th>quantity</th>\n",
              "    </tr>\n",
              "  </thead>\n",
              "  <tbody>\n",
              "    <tr>\n",
              "      <th>0</th>\n",
              "      <td>True</td>\n",
              "      <td>Liver</td>\n",
              "      <td>13</td>\n",
              "    </tr>\n",
              "    <tr>\n",
              "      <th>1</th>\n",
              "      <td>False</td>\n",
              "      <td>Brain</td>\n",
              "      <td>88</td>\n",
              "    </tr>\n",
              "    <tr>\n",
              "      <th>2</th>\n",
              "      <td>False</td>\n",
              "      <td>Testes</td>\n",
              "      <td>1233</td>\n",
              "    </tr>\n",
              "    <tr>\n",
              "      <th>3</th>\n",
              "      <td>True</td>\n",
              "      <td>Muscle</td>\n",
              "      <td>55</td>\n",
              "    </tr>\n",
              "    <tr>\n",
              "      <th>4</th>\n",
              "      <td>True</td>\n",
              "      <td>Intestine</td>\n",
              "      <td>233</td>\n",
              "    </tr>\n",
              "    <tr>\n",
              "      <th>5</th>\n",
              "      <td>False</td>\n",
              "      <td>Heart</td>\n",
              "      <td>18</td>\n",
              "    </tr>\n",
              "  </tbody>\n",
              "</table>\n",
              "</div>"
            ],
            "text/plain": [
              "   healthy     tissue  quantity\n",
              "0     True      Liver        13\n",
              "1    False      Brain        88\n",
              "2    False     Testes      1233\n",
              "3     True     Muscle        55\n",
              "4     True  Intestine       233\n",
              "5    False      Heart        18"
            ]
          },
          "execution_count": 95,
          "metadata": {},
          "output_type": "execute_result"
        }
      ],
      "source": [
        "foo_df"
      ]
    },
    {
      "cell_type": "markdown",
      "metadata": {
        "id": "RJJjj5Be4EG3"
      },
      "source": [
        "**Exercise 4.1**"
      ]
    },
    {
      "cell_type": "code",
      "execution_count": 96,
      "metadata": {
        "colab": {
          "base_uri": "https://localhost:8080/",
          "height": 202
        },
        "id": "cA_Ma1rS4Ffs",
        "outputId": "f1e407a5-b847-49ce-c435-355adf2c6e59"
      },
      "outputs": [
        {
          "data": {
            "text/html": [
              "<div>\n",
              "<style scoped>\n",
              "    .dataframe tbody tr th:only-of-type {\n",
              "        vertical-align: middle;\n",
              "    }\n",
              "\n",
              "    .dataframe tbody tr th {\n",
              "        vertical-align: top;\n",
              "    }\n",
              "\n",
              "    .dataframe thead th {\n",
              "        text-align: right;\n",
              "    }\n",
              "</style>\n",
              "<table border=\"1\" class=\"dataframe\">\n",
              "  <thead>\n",
              "    <tr style=\"text-align: right;\">\n",
              "      <th></th>\n",
              "      <th>City</th>\n",
              "      <th>Distance</th>\n",
              "    </tr>\n",
              "  </thead>\n",
              "  <tbody>\n",
              "    <tr>\n",
              "      <th>0</th>\n",
              "      <td>Munich</td>\n",
              "      <td>584</td>\n",
              "    </tr>\n",
              "    <tr>\n",
              "      <th>1</th>\n",
              "      <td>Paris</td>\n",
              "      <td>1054</td>\n",
              "    </tr>\n",
              "    <tr>\n",
              "      <th>2</th>\n",
              "      <td>Amsterdam</td>\n",
              "      <td>653</td>\n",
              "    </tr>\n",
              "    <tr>\n",
              "      <th>3</th>\n",
              "      <td>Madrid</td>\n",
              "      <td>2301</td>\n",
              "    </tr>\n",
              "    <tr>\n",
              "      <th>4</th>\n",
              "      <td>Istanbul</td>\n",
              "      <td>2191</td>\n",
              "    </tr>\n",
              "  </tbody>\n",
              "</table>\n",
              "</div>"
            ],
            "text/plain": [
              "        City  Distance\n",
              "0     Munich       584\n",
              "1      Paris      1054\n",
              "2  Amsterdam       653\n",
              "3     Madrid      2301\n",
              "4   Istanbul      2191"
            ]
          },
          "execution_count": 96,
          "metadata": {},
          "output_type": "execute_result"
        }
      ],
      "source": [
        "distDictDF = pd.DataFrame({\"City\": cities,\n",
        "                           \"Distance\": dist})\n",
        "distDictDF"
      ]
    },
    {
      "cell_type": "markdown",
      "metadata": {
        "id": "Plwa5G8p478d"
      },
      "source": [
        "#### From Lists (jsut as an example)"
      ]
    },
    {
      "cell_type": "code",
      "execution_count": 97,
      "metadata": {
        "colab": {
          "base_uri": "https://localhost:8080/",
          "height": 71
        },
        "id": "rEISq4-Z4-YS",
        "outputId": "5aa37413-9e35-470a-c367-17a44bdb14f8"
      },
      "outputs": [
        {
          "data": {
            "text/plain": [
              "[[True, False, False, True, True, False],\n",
              " ['Liver', 'Brain', 'Testes', 'Muscle', 'Intestine', 'Heart'],\n",
              " [13, 88, 1233, 55, 233, 18]]"
            ]
          },
          "execution_count": 97,
          "metadata": {},
          "output_type": "execute_result"
        }
      ],
      "source": [
        "# names\n",
        "list_names = ['healthy', 'tissue', 'quantity']\n",
        "\n",
        "# columns are a list of lists\n",
        "list_cols = [foo1, foo2, foo3]\n",
        "list_cols"
      ]
    },
    {
      "cell_type": "code",
      "execution_count": 98,
      "metadata": {
        "colab": {
          "base_uri": "https://localhost:8080/",
          "height": 71
        },
        "id": "hvOL7qYI5VNW",
        "outputId": "4b1e3097-54b0-4648-a5f5-681a4b6c065f"
      },
      "outputs": [
        {
          "data": {
            "text/plain": [
              "[('healthy', [True, False, False, True, True, False]),\n",
              " ('tissue', ['Liver', 'Brain', 'Testes', 'Muscle', 'Intestine', 'Heart']),\n",
              " ('quantity', [13, 88, 1233, 55, 233, 18])]"
            ]
          },
          "execution_count": 98,
          "metadata": {},
          "output_type": "execute_result"
        }
      ],
      "source": [
        "zip_list = list(zip(list_names, list_cols))\n",
        "zip_list"
      ]
    },
    {
      "cell_type": "code",
      "execution_count": 99,
      "metadata": {
        "colab": {
          "base_uri": "https://localhost:8080/",
          "height": 71
        },
        "id": "ydw3mGDC5d9q",
        "outputId": "d30c2557-efb2-4acc-b53f-bf63e77dc7d4"
      },
      "outputs": [
        {
          "data": {
            "text/plain": [
              "{'healthy': [True, False, False, True, True, False],\n",
              " 'tissue': ['Liver', 'Brain', 'Testes', 'Muscle', 'Intestine', 'Heart'],\n",
              " 'quantity': [13, 88, 1233, 55, 233, 18]}"
            ]
          },
          "execution_count": 99,
          "metadata": {},
          "output_type": "execute_result"
        }
      ],
      "source": [
        "zip_dict = dict(zip_list)\n",
        "zip_dict # True dictionary"
      ]
    },
    {
      "cell_type": "code",
      "execution_count": 100,
      "metadata": {
        "colab": {
          "base_uri": "https://localhost:8080/",
          "height": 233
        },
        "id": "6R-u-Hcc5eOz",
        "outputId": "1213320c-3272-4e4e-8bcc-5b45ca07a16f"
      },
      "outputs": [
        {
          "data": {
            "text/html": [
              "<div>\n",
              "<style scoped>\n",
              "    .dataframe tbody tr th:only-of-type {\n",
              "        vertical-align: middle;\n",
              "    }\n",
              "\n",
              "    .dataframe tbody tr th {\n",
              "        vertical-align: top;\n",
              "    }\n",
              "\n",
              "    .dataframe thead th {\n",
              "        text-align: right;\n",
              "    }\n",
              "</style>\n",
              "<table border=\"1\" class=\"dataframe\">\n",
              "  <thead>\n",
              "    <tr style=\"text-align: right;\">\n",
              "      <th></th>\n",
              "      <th>healthy</th>\n",
              "      <th>tissue</th>\n",
              "      <th>quantity</th>\n",
              "    </tr>\n",
              "  </thead>\n",
              "  <tbody>\n",
              "    <tr>\n",
              "      <th>0</th>\n",
              "      <td>True</td>\n",
              "      <td>Liver</td>\n",
              "      <td>13</td>\n",
              "    </tr>\n",
              "    <tr>\n",
              "      <th>1</th>\n",
              "      <td>False</td>\n",
              "      <td>Brain</td>\n",
              "      <td>88</td>\n",
              "    </tr>\n",
              "    <tr>\n",
              "      <th>2</th>\n",
              "      <td>False</td>\n",
              "      <td>Testes</td>\n",
              "      <td>1233</td>\n",
              "    </tr>\n",
              "    <tr>\n",
              "      <th>3</th>\n",
              "      <td>True</td>\n",
              "      <td>Muscle</td>\n",
              "      <td>55</td>\n",
              "    </tr>\n",
              "    <tr>\n",
              "      <th>4</th>\n",
              "      <td>True</td>\n",
              "      <td>Intestine</td>\n",
              "      <td>233</td>\n",
              "    </tr>\n",
              "    <tr>\n",
              "      <th>5</th>\n",
              "      <td>False</td>\n",
              "      <td>Heart</td>\n",
              "      <td>18</td>\n",
              "    </tr>\n",
              "  </tbody>\n",
              "</table>\n",
              "</div>"
            ],
            "text/plain": [
              "   healthy     tissue  quantity\n",
              "0     True      Liver        13\n",
              "1    False      Brain        88\n",
              "2    False     Testes      1233\n",
              "3     True     Muscle        55\n",
              "4     True  Intestine       233\n",
              "5    False      Heart        18"
            ]
          },
          "execution_count": 100,
          "metadata": {},
          "output_type": "execute_result"
        }
      ],
      "source": [
        "zip_df = pd.DataFrame(zip_dict)\n",
        "zip_df"
      ]
    },
    {
      "cell_type": "markdown",
      "metadata": {
        "id": "01VXYScj6b6o"
      },
      "source": [
        "### Working with DataFrames"
      ]
    },
    {
      "cell_type": "code",
      "execution_count": 101,
      "metadata": {
        "colab": {
          "base_uri": "https://localhost:8080/",
          "height": 143
        },
        "id": "lfawX4hg6Y9U",
        "outputId": "66ac050a-180f-4622-eefe-3e8ec86c4cce"
      },
      "outputs": [
        {
          "data": {
            "text/plain": [
              "0     True\n",
              "1    False\n",
              "2    False\n",
              "3     True\n",
              "4     True\n",
              "5    False\n",
              "Name: healthy, dtype: bool"
            ]
          },
          "execution_count": 101,
          "metadata": {},
          "output_type": "execute_result"
        }
      ],
      "source": [
        "foo_df['healthy'] #indexing by name, an individual column \"Series\", 1-dim array"
      ]
    },
    {
      "cell_type": "code",
      "execution_count": 102,
      "metadata": {
        "colab": {
          "base_uri": "https://localhost:8080/",
          "height": 233
        },
        "id": "ugwLuJWY6XE0",
        "outputId": "89f0b8f2-f66b-4884-c109-2db32f56113d"
      },
      "outputs": [
        {
          "data": {
            "text/html": [
              "<div>\n",
              "<style scoped>\n",
              "    .dataframe tbody tr th:only-of-type {\n",
              "        vertical-align: middle;\n",
              "    }\n",
              "\n",
              "    .dataframe tbody tr th {\n",
              "        vertical-align: top;\n",
              "    }\n",
              "\n",
              "    .dataframe thead th {\n",
              "        text-align: right;\n",
              "    }\n",
              "</style>\n",
              "<table border=\"1\" class=\"dataframe\">\n",
              "  <thead>\n",
              "    <tr style=\"text-align: right;\">\n",
              "      <th></th>\n",
              "      <th>healthy</th>\n",
              "    </tr>\n",
              "  </thead>\n",
              "  <tbody>\n",
              "    <tr>\n",
              "      <th>0</th>\n",
              "      <td>True</td>\n",
              "    </tr>\n",
              "    <tr>\n",
              "      <th>1</th>\n",
              "      <td>False</td>\n",
              "    </tr>\n",
              "    <tr>\n",
              "      <th>2</th>\n",
              "      <td>False</td>\n",
              "    </tr>\n",
              "    <tr>\n",
              "      <th>3</th>\n",
              "      <td>True</td>\n",
              "    </tr>\n",
              "    <tr>\n",
              "      <th>4</th>\n",
              "      <td>True</td>\n",
              "    </tr>\n",
              "    <tr>\n",
              "      <th>5</th>\n",
              "      <td>False</td>\n",
              "    </tr>\n",
              "  </tbody>\n",
              "</table>\n",
              "</div>"
            ],
            "text/plain": [
              "   healthy\n",
              "0     True\n",
              "1    False\n",
              "2    False\n",
              "3     True\n",
              "4     True\n",
              "5    False"
            ]
          },
          "execution_count": 102,
          "metadata": {},
          "output_type": "execute_result"
        }
      ],
      "source": [
        "foo_df[['healthy']] # DataFrame with 1 column"
      ]
    },
    {
      "cell_type": "code",
      "execution_count": 103,
      "metadata": {
        "colab": {
          "base_uri": "https://localhost:8080/",
          "height": 143
        },
        "id": "Fo6BWEE56375",
        "outputId": "fefcd281-9ee2-4b52-e805-338035356075"
      },
      "outputs": [
        {
          "data": {
            "text/plain": [
              "0     True\n",
              "1    False\n",
              "2    False\n",
              "3     True\n",
              "4     True\n",
              "5    False\n",
              "Name: healthy, dtype: bool"
            ]
          },
          "execution_count": 103,
          "metadata": {},
          "output_type": "execute_result"
        }
      ],
      "source": [
        "foo_df.healthy # Get the Series using a `.` notation"
      ]
    },
    {
      "cell_type": "code",
      "execution_count": 104,
      "metadata": {
        "colab": {
          "base_uri": "https://localhost:8080/",
          "height": 233
        },
        "id": "3Zc9r9sh7jer",
        "outputId": "c63c1fff-c02a-4c7f-d5e0-8f9bf67447a5"
      },
      "outputs": [
        {
          "data": {
            "text/html": [
              "<div>\n",
              "<style scoped>\n",
              "    .dataframe tbody tr th:only-of-type {\n",
              "        vertical-align: middle;\n",
              "    }\n",
              "\n",
              "    .dataframe tbody tr th {\n",
              "        vertical-align: top;\n",
              "    }\n",
              "\n",
              "    .dataframe thead th {\n",
              "        text-align: right;\n",
              "    }\n",
              "</style>\n",
              "<table border=\"1\" class=\"dataframe\">\n",
              "  <thead>\n",
              "    <tr style=\"text-align: right;\">\n",
              "      <th></th>\n",
              "      <th>healthy</th>\n",
              "      <th>tissue</th>\n",
              "      <th>quantity</th>\n",
              "      <th>new</th>\n",
              "    </tr>\n",
              "  </thead>\n",
              "  <tbody>\n",
              "    <tr>\n",
              "      <th>0</th>\n",
              "      <td>True</td>\n",
              "      <td>Liver</td>\n",
              "      <td>13</td>\n",
              "      <td>0</td>\n",
              "    </tr>\n",
              "    <tr>\n",
              "      <th>1</th>\n",
              "      <td>False</td>\n",
              "      <td>Brain</td>\n",
              "      <td>88</td>\n",
              "      <td>0</td>\n",
              "    </tr>\n",
              "    <tr>\n",
              "      <th>2</th>\n",
              "      <td>False</td>\n",
              "      <td>Testes</td>\n",
              "      <td>1233</td>\n",
              "      <td>0</td>\n",
              "    </tr>\n",
              "    <tr>\n",
              "      <th>3</th>\n",
              "      <td>True</td>\n",
              "      <td>Muscle</td>\n",
              "      <td>55</td>\n",
              "      <td>0</td>\n",
              "    </tr>\n",
              "    <tr>\n",
              "      <th>4</th>\n",
              "      <td>True</td>\n",
              "      <td>Intestine</td>\n",
              "      <td>233</td>\n",
              "      <td>0</td>\n",
              "    </tr>\n",
              "    <tr>\n",
              "      <th>5</th>\n",
              "      <td>False</td>\n",
              "      <td>Heart</td>\n",
              "      <td>18</td>\n",
              "      <td>0</td>\n",
              "    </tr>\n",
              "  </tbody>\n",
              "</table>\n",
              "</div>"
            ],
            "text/plain": [
              "   healthy     tissue  quantity  new\n",
              "0     True      Liver        13    0\n",
              "1    False      Brain        88    0\n",
              "2    False     Testes      1233    0\n",
              "3     True     Muscle        55    0\n",
              "4     True  Intestine       233    0\n",
              "5    False      Heart        18    0"
            ]
          },
          "execution_count": 104,
          "metadata": {},
          "output_type": "execute_result"
        }
      ],
      "source": [
        "# Add a new column and populate it with the value (which is recycled, i.e. \"broadcast\" over the length of the Series)\n",
        "foo_df['new'] = 0\n",
        "foo_df"
      ]
    },
    {
      "cell_type": "code",
      "execution_count": 105,
      "metadata": {
        "colab": {
          "base_uri": "https://localhost:8080/",
          "height": 233
        },
        "id": "J5z94wn87l5D",
        "outputId": "f1e8a54b-06ca-4a8f-ba37-26a0d0158149"
      },
      "outputs": [
        {
          "data": {
            "text/html": [
              "<div>\n",
              "<style scoped>\n",
              "    .dataframe tbody tr th:only-of-type {\n",
              "        vertical-align: middle;\n",
              "    }\n",
              "\n",
              "    .dataframe tbody tr th {\n",
              "        vertical-align: top;\n",
              "    }\n",
              "\n",
              "    .dataframe thead th {\n",
              "        text-align: right;\n",
              "    }\n",
              "</style>\n",
              "<table border=\"1\" class=\"dataframe\">\n",
              "  <thead>\n",
              "    <tr style=\"text-align: right;\">\n",
              "      <th></th>\n",
              "      <th>healthy</th>\n",
              "      <th>tissue</th>\n",
              "      <th>quantity</th>\n",
              "      <th>new</th>\n",
              "    </tr>\n",
              "  </thead>\n",
              "  <tbody>\n",
              "    <tr>\n",
              "      <th>0</th>\n",
              "      <td>True</td>\n",
              "      <td>Liver</td>\n",
              "      <td>13</td>\n",
              "      <td>0</td>\n",
              "    </tr>\n",
              "    <tr>\n",
              "      <th>1</th>\n",
              "      <td>False</td>\n",
              "      <td>Brain</td>\n",
              "      <td>88</td>\n",
              "      <td>0</td>\n",
              "    </tr>\n",
              "    <tr>\n",
              "      <th>2</th>\n",
              "      <td>False</td>\n",
              "      <td>Testes</td>\n",
              "      <td>1233</td>\n",
              "      <td>0</td>\n",
              "    </tr>\n",
              "    <tr>\n",
              "      <th>3</th>\n",
              "      <td>True</td>\n",
              "      <td>Muscle</td>\n",
              "      <td>55</td>\n",
              "      <td>0</td>\n",
              "    </tr>\n",
              "    <tr>\n",
              "      <th>4</th>\n",
              "      <td>True</td>\n",
              "      <td>Intestine</td>\n",
              "      <td>233</td>\n",
              "      <td>0</td>\n",
              "    </tr>\n",
              "    <tr>\n",
              "      <th>5</th>\n",
              "      <td>False</td>\n",
              "      <td>Heart</td>\n",
              "      <td>18</td>\n",
              "      <td>0</td>\n",
              "    </tr>\n",
              "  </tbody>\n",
              "</table>\n",
              "</div>"
            ],
            "text/plain": [
              "   healthy     tissue  quantity  new\n",
              "0     True      Liver        13    0\n",
              "1    False      Brain        88    0\n",
              "2    False     Testes      1233    0\n",
              "3     True     Muscle        55    0\n",
              "4     True  Intestine       233    0\n",
              "5    False      Heart        18    0"
            ]
          },
          "execution_count": 105,
          "metadata": {},
          "output_type": "execute_result"
        }
      ],
      "source": [
        "# But this doesn't work\n",
        "foo_df.new2 = 4\n",
        "foo_df"
      ]
    },
    {
      "cell_type": "markdown",
      "metadata": {
        "id": "GWD69vFWBuf9"
      },
      "source": [
        "# Mini-case study - exercise 4.8"
      ]
    },
    {
      "cell_type": "code",
      "execution_count": 106,
      "metadata": {
        "colab": {
          "base_uri": "https://localhost:8080/",
          "height": 202
        },
        "id": "wuv8Z6dELj4s",
        "outputId": "c7887ecd-a8d5-4b4a-b748-0e9b87dfb7d2"
      },
      "outputs": [
        {
          "data": {
            "text/html": [
              "<div>\n",
              "<style scoped>\n",
              "    .dataframe tbody tr th:only-of-type {\n",
              "        vertical-align: middle;\n",
              "    }\n",
              "\n",
              "    .dataframe tbody tr th {\n",
              "        vertical-align: top;\n",
              "    }\n",
              "\n",
              "    .dataframe thead th {\n",
              "        text-align: right;\n",
              "    }\n",
              "</style>\n",
              "<table border=\"1\" class=\"dataframe\">\n",
              "  <thead>\n",
              "    <tr style=\"text-align: right;\">\n",
              "      <th></th>\n",
              "      <th>model</th>\n",
              "      <th>mpg</th>\n",
              "      <th>cyl</th>\n",
              "      <th>disp</th>\n",
              "      <th>hp</th>\n",
              "      <th>drat</th>\n",
              "      <th>wt</th>\n",
              "      <th>qsec</th>\n",
              "      <th>vs</th>\n",
              "      <th>am</th>\n",
              "      <th>gear</th>\n",
              "      <th>carb</th>\n",
              "    </tr>\n",
              "  </thead>\n",
              "  <tbody>\n",
              "    <tr>\n",
              "      <th>0</th>\n",
              "      <td>Mazda RX4</td>\n",
              "      <td>21.0</td>\n",
              "      <td>6</td>\n",
              "      <td>160.0</td>\n",
              "      <td>110</td>\n",
              "      <td>3.90</td>\n",
              "      <td>2.620</td>\n",
              "      <td>16.46</td>\n",
              "      <td>0</td>\n",
              "      <td>1</td>\n",
              "      <td>4</td>\n",
              "      <td>4</td>\n",
              "    </tr>\n",
              "    <tr>\n",
              "      <th>1</th>\n",
              "      <td>Mazda RX4 Wag</td>\n",
              "      <td>21.0</td>\n",
              "      <td>6</td>\n",
              "      <td>160.0</td>\n",
              "      <td>110</td>\n",
              "      <td>3.90</td>\n",
              "      <td>2.875</td>\n",
              "      <td>17.02</td>\n",
              "      <td>0</td>\n",
              "      <td>1</td>\n",
              "      <td>4</td>\n",
              "      <td>4</td>\n",
              "    </tr>\n",
              "    <tr>\n",
              "      <th>2</th>\n",
              "      <td>Datsun 710</td>\n",
              "      <td>22.8</td>\n",
              "      <td>4</td>\n",
              "      <td>108.0</td>\n",
              "      <td>93</td>\n",
              "      <td>3.85</td>\n",
              "      <td>2.320</td>\n",
              "      <td>18.61</td>\n",
              "      <td>1</td>\n",
              "      <td>1</td>\n",
              "      <td>4</td>\n",
              "      <td>1</td>\n",
              "    </tr>\n",
              "    <tr>\n",
              "      <th>3</th>\n",
              "      <td>Hornet 4 Drive</td>\n",
              "      <td>21.4</td>\n",
              "      <td>6</td>\n",
              "      <td>258.0</td>\n",
              "      <td>110</td>\n",
              "      <td>3.08</td>\n",
              "      <td>3.215</td>\n",
              "      <td>19.44</td>\n",
              "      <td>1</td>\n",
              "      <td>0</td>\n",
              "      <td>3</td>\n",
              "      <td>1</td>\n",
              "    </tr>\n",
              "    <tr>\n",
              "      <th>4</th>\n",
              "      <td>Hornet Sportabout</td>\n",
              "      <td>18.7</td>\n",
              "      <td>8</td>\n",
              "      <td>360.0</td>\n",
              "      <td>175</td>\n",
              "      <td>3.15</td>\n",
              "      <td>3.440</td>\n",
              "      <td>17.02</td>\n",
              "      <td>0</td>\n",
              "      <td>0</td>\n",
              "      <td>3</td>\n",
              "      <td>2</td>\n",
              "    </tr>\n",
              "  </tbody>\n",
              "</table>\n",
              "</div>"
            ],
            "text/plain": [
              "               model   mpg  cyl   disp   hp  drat     wt   qsec  vs  am  gear  \\\n",
              "0          Mazda RX4  21.0    6  160.0  110  3.90  2.620  16.46   0   1     4   \n",
              "1      Mazda RX4 Wag  21.0    6  160.0  110  3.90  2.875  17.02   0   1     4   \n",
              "2         Datsun 710  22.8    4  108.0   93  3.85  2.320  18.61   1   1     4   \n",
              "3     Hornet 4 Drive  21.4    6  258.0  110  3.08  3.215  19.44   1   0     3   \n",
              "4  Hornet Sportabout  18.7    8  360.0  175  3.15  3.440  17.02   0   0     3   \n",
              "\n",
              "   carb  \n",
              "0     4  \n",
              "1     4  \n",
              "2     1  \n",
              "3     1  \n",
              "4     2  "
            ]
          },
          "execution_count": 106,
          "metadata": {},
          "output_type": "execute_result"
        }
      ],
      "source": [
        "import pandas as pd\n",
        "mtcars = pd.read_csv('data/mtcars.csv')\n",
        "mtcars.head()"
      ]
    },
    {
      "cell_type": "markdown",
      "metadata": {
        "id": "sULLOJHIL3_6"
      },
      "source": [
        "1. Calculate the correlation between `mpg` and `wt` and test if it is significant."
      ]
    },
    {
      "cell_type": "code",
      "execution_count": 107,
      "metadata": {
        "id": "68It7SPJL3Uq"
      },
      "outputs": [],
      "source": [
        "# corr() is not a function:\n",
        "# corr(mtcars['mpg'], mtcars['wt'])"
      ]
    },
    {
      "cell_type": "code",
      "execution_count": 108,
      "metadata": {
        "colab": {
          "base_uri": "https://localhost:8080/",
          "height": 53
        },
        "id": "2rNcYxsyPVtk",
        "outputId": "f78e090f-9e11-41ab-c1b2-53daab6e8ca7"
      },
      "outputs": [
        {
          "data": {
            "text/plain": [
              "wt   -0.867659\n",
              "Name: mpg, dtype: float64"
            ]
          },
          "execution_count": 108,
          "metadata": {},
          "output_type": "execute_result"
        }
      ],
      "source": [
        "# A correlation matrix\n",
        "cor_mat = mtcars.corr()\n",
        "cor_mat[['wt']].iloc[0]"
      ]
    },
    {
      "cell_type": "code",
      "execution_count": 109,
      "metadata": {
        "colab": {
          "base_uri": "https://localhost:8080/",
          "height": 35
        },
        "id": "4in2ktTzQAA2",
        "outputId": "33100d18-145a-4752-f282-f891b281eb23"
      },
      "outputs": [
        {
          "ename": "SyntaxError",
          "evalue": "invalid character in identifier (4228633305.py, line 2)",
          "output_type": "error",
          "traceback": [
            "\u001b[0;36m  File \u001b[0;32m\"/var/folders/mq/1ktbbhd168q6v_0vs_krqqq40000gn/T/ipykernel_62199/4228633305.py\"\u001b[0;36m, line \u001b[0;32m2\u001b[0m\n\u001b[0;31m    mtcars['mpg'].corr(mtcars['wt'])\u001b[0m\n\u001b[0m                                    ^\u001b[0m\n\u001b[0;31mSyntaxError\u001b[0m\u001b[0;31m:\u001b[0m invalid character in identifier\n"
          ]
        }
      ],
      "source": [
        "# Targeted correlation between two Series in the DataFrame\n",
        "mtcars['mpg'].corr(mtcars['wt'])"
      ]
    },
    {
      "cell_type": "code",
      "execution_count": null,
      "metadata": {
        "colab": {
          "base_uri": "https://localhost:8080/",
          "height": 53
        },
        "id": "c9AsYzUgQUzl",
        "outputId": "70932f00-3fb9-4985-fac0-a8eea5da8975"
      },
      "outputs": [
        {
          "data": {
            "text/plain": [
              "array([[ 1.        , -0.86765938],\n",
              "       [-0.86765938,  1.        ]])"
            ]
          },
          "execution_count": 111,
          "metadata": {
            "tags": []
          },
          "output_type": "execute_result"
        }
      ],
      "source": [
        "# Using NumPy\n",
        "r = np.corrcoef(mtcars['mpg'], mtcars['wt'])\n",
        "r"
      ]
    },
    {
      "cell_type": "code",
      "execution_count": null,
      "metadata": {
        "id": "cXJyzDrLQ1-A"
      },
      "outputs": [],
      "source": [
        "# import pingouin as pg  \n",
        "# pg.corr(x=mtcars['mpg'], y=mtcars['wt'])"
      ]
    },
    {
      "cell_type": "code",
      "execution_count": null,
      "metadata": {
        "colab": {
          "base_uri": "https://localhost:8080/",
          "height": 35
        },
        "id": "0vFqLHQqRx1y",
        "outputId": "225b4d33-f18e-4a52-8d7d-8c94461db3d1"
      },
      "outputs": [
        {
          "data": {
            "text/plain": [
              "(-0.8676593765172279, 1.2939587013504974e-10)"
            ]
          },
          "execution_count": 113,
          "metadata": {
            "tags": []
          },
          "output_type": "execute_result"
        }
      ],
      "source": [
        "import scipy.stats as stats\n",
        "stats.pearsonr(mtcars['mpg'], mtcars['wt'])"
      ]
    },
    {
      "cell_type": "markdown",
      "metadata": {
        "id": "_JIE_VeTL6fT"
      },
      "source": [
        "2. Visualize the relationship in an XY scatter plot (bonus points for a regression line).\n"
      ]
    },
    {
      "cell_type": "code",
      "execution_count": null,
      "metadata": {
        "colab": {
          "base_uri": "https://localhost:8080/",
          "height": 287
        },
        "id": "5WWbZyLRL_8c",
        "outputId": "e15efb65-44bc-4817-867a-b66f9a06a5dc"
      },
      "outputs": [
        {
          "data": {
            "text/plain": [
              "<matplotlib.collections.PathCollection at 0x7f7b61edc4e0>"
            ]
          },
          "execution_count": 114,
          "metadata": {
            "tags": []
          },
          "output_type": "execute_result"
        },
        {
          "data": {
            "image/png": "[encoded data removed]",
            "text/plain": [
              "<Figure size 432x288 with 1 Axes>"
            ]
          },
          "metadata": {
            "needs_background": "light",
            "tags": []
          },
          "output_type": "display_data"
        }
      ],
      "source": [
        "# previously imported seaborn (see above)\n",
        "# sns.scatter(x=mtcars['mpg'], y=mtcars['wt'])\n",
        "\n",
        "import matplotlib.pyplot as plt # Low level plotting\n",
        "y = mtcars.mpg\n",
        "x = mtcars.wt\n",
        "plt.scatter(x,y)\n",
        "# plt.show()"
      ]
    },
    {
      "cell_type": "code",
      "execution_count": null,
      "metadata": {
        "colab": {
          "base_uri": "https://localhost:8080/",
          "height": 300
        },
        "id": "F3FCNyrJVQco",
        "outputId": "a60f9f74-00dc-4777-c165-ed8a1ef84991"
      },
      "outputs": [
        {
          "data": {
            "text/plain": [
              "<matplotlib.axes._subplots.AxesSubplot at 0x7f7b61edc940>"
            ]
          },
          "execution_count": 115,
          "metadata": {
            "tags": []
          },
          "output_type": "execute_result"
        },
        {
          "data": {
            "image/png": "[encoded data removed]",
            "text/plain": [
              "<Figure size 432x288 with 1 Axes>"
            ]
          },
          "metadata": {
            "needs_background": "light",
            "tags": []
          },
          "output_type": "display_data"
        }
      ],
      "source": [
        "sns.regplot(x=\"wt\", y=\"mpg\", data = mtcars, ci=None)"
      ]
    },
    {
      "cell_type": "code",
      "execution_count": null,
      "metadata": {
        "colab": {
          "base_uri": "https://localhost:8080/",
          "height": 401
        },
        "id": "AVk_5j03VX4r",
        "outputId": "4e00b168-a460-43b5-f7b9-fe7efe72d19d"
      },
      "outputs": [
        {
          "data": {
            "text/plain": [
              "<seaborn.axisgrid.FacetGrid at 0x7f7b61e7be48>"
            ]
          },
          "execution_count": 116,
          "metadata": {
            "tags": []
          },
          "output_type": "execute_result"
        },
        {
          "data": {
            "image/png": "[encoded data removed]",
            "text/plain": [
              "<Figure size 360x360 with 1 Axes>"
            ]
          },
          "metadata": {
            "needs_background": "light",
            "tags": []
          },
          "output_type": "display_data"
        }
      ],
      "source": [
        "sns.lmplot(x=\"wt\", y=\"mpg\", data=mtcars, ci=None)"
      ]
    },
    {
      "cell_type": "code",
      "execution_count": null,
      "metadata": {
        "id": "osiR-Q1jWHKZ"
      },
      "outputs": [],
      "source": [
        "# from sklearn.linear_model import LinearRegression\n",
        "# model = LinearRegression().fit(x, y)"
      ]
    },
    {
      "cell_type": "code",
      "execution_count": null,
      "metadata": {
        "colab": {
          "base_uri": "https://localhost:8080/",
          "height": 441
        },
        "id": "y6nX4odoWgk1",
        "outputId": "2538de1a-1d93-43d6-af90-0121ba6d5bdc"
      },
      "outputs": [
        {
          "data": {
            "text/html": [
              "<table class=\"simpletable\">\n",
              "<caption>OLS Regression Results</caption>\n",
              "<tr>\n",
              "  <th>Dep. Variable:</th>           <td>mpg</td>       <th>  R-squared:         </th> <td>   0.753</td>\n",
              "</tr>\n",
              "<tr>\n",
              "  <th>Model:</th>                   <td>OLS</td>       <th>  Adj. R-squared:    </th> <td>   0.745</td>\n",
              "</tr>\n",
              "<tr>\n",
              "  <th>Method:</th>             <td>Least Squares</td>  <th>  F-statistic:       </th> <td>   91.38</td>\n",
              "</tr>\n",
              "<tr>\n",
              "  <th>Date:</th>             <td>Tue, 27 Oct 2020</td> <th>  Prob (F-statistic):</th> <td>1.29e-10</td>\n",
              "</tr>\n",
              "<tr>\n",
              "  <th>Time:</th>                 <td>19:04:02</td>     <th>  Log-Likelihood:    </th> <td> -80.015</td>\n",
              "</tr>\n",
              "<tr>\n",
              "  <th>No. Observations:</th>      <td>    32</td>      <th>  AIC:               </th> <td>   164.0</td>\n",
              "</tr>\n",
              "<tr>\n",
              "  <th>Df Residuals:</th>          <td>    30</td>      <th>  BIC:               </th> <td>   167.0</td>\n",
              "</tr>\n",
              "<tr>\n",
              "  <th>Df Model:</th>              <td>     1</td>      <th>                     </th>     <td> </td>   \n",
              "</tr>\n",
              "<tr>\n",
              "  <th>Covariance Type:</th>      <td>nonrobust</td>    <th>                     </th>     <td> </td>   \n",
              "</tr>\n",
              "</table>\n",
              "<table class=\"simpletable\">\n",
              "<tr>\n",
              "      <td></td>         <th>coef</th>     <th>std err</th>      <th>t</th>      <th>P>|t|</th>  <th>[0.025</th>    <th>0.975]</th>  \n",
              "</tr>\n",
              "<tr>\n",
              "  <th>Intercept</th> <td>   37.2851</td> <td>    1.878</td> <td>   19.858</td> <td> 0.000</td> <td>   33.450</td> <td>   41.120</td>\n",
              "</tr>\n",
              "<tr>\n",
              "  <th>wt</th>        <td>   -5.3445</td> <td>    0.559</td> <td>   -9.559</td> <td> 0.000</td> <td>   -6.486</td> <td>   -4.203</td>\n",
              "</tr>\n",
              "</table>\n",
              "<table class=\"simpletable\">\n",
              "<tr>\n",
              "  <th>Omnibus:</th>       <td> 2.988</td> <th>  Durbin-Watson:     </th> <td>   1.252</td>\n",
              "</tr>\n",
              "<tr>\n",
              "  <th>Prob(Omnibus):</th> <td> 0.225</td> <th>  Jarque-Bera (JB):  </th> <td>   2.399</td>\n",
              "</tr>\n",
              "<tr>\n",
              "  <th>Skew:</th>          <td> 0.668</td> <th>  Prob(JB):          </th> <td>   0.301</td>\n",
              "</tr>\n",
              "<tr>\n",
              "  <th>Kurtosis:</th>      <td> 2.877</td> <th>  Cond. No.          </th> <td>    12.7</td>\n",
              "</tr>\n",
              "</table><br/><br/>Warnings:<br/>[1] Standard Errors assume that the covariance matrix of the errors is correctly specified."
            ],
            "text/plain": [
              "<class 'statsmodels.iolib.summary.Summary'>\n",
              "\"\"\"\n",
              "                            OLS Regression Results                            \n",
              "==============================================================================\n",
              "Dep. Variable:                    mpg   R-squared:                       0.753\n",
              "Model:                            OLS   Adj. R-squared:                  0.745\n",
              "Method:                 Least Squares   F-statistic:                     91.38\n",
              "Date:                Tue, 27 Oct 2020   Prob (F-statistic):           1.29e-10\n",
              "Time:                        19:04:02   Log-Likelihood:                -80.015\n",
              "No. Observations:                  32   AIC:                             164.0\n",
              "Df Residuals:                      30   BIC:                             167.0\n",
              "Df Model:                           1                                         \n",
              "Covariance Type:            nonrobust                                         \n",
              "==============================================================================\n",
              "                 coef    std err          t      P>|t|      [0.025      0.975]\n",
              "------------------------------------------------------------------------------\n",
              "Intercept     37.2851      1.878     19.858      0.000      33.450      41.120\n",
              "wt            -5.3445      0.559     -9.559      0.000      -6.486      -4.203\n",
              "==============================================================================\n",
              "Omnibus:                        2.988   Durbin-Watson:                   1.252\n",
              "Prob(Omnibus):                  0.225   Jarque-Bera (JB):                2.399\n",
              "Skew:                           0.668   Prob(JB):                        0.301\n",
              "Kurtosis:                       2.877   Cond. No.                         12.7\n",
              "==============================================================================\n",
              "\n",
              "Warnings:\n",
              "[1] Standard Errors assume that the covariance matrix of the errors is correctly specified.\n",
              "\"\"\""
            ]
          },
          "execution_count": 118,
          "metadata": {
            "tags": []
          },
          "output_type": "execute_result"
        }
      ],
      "source": [
        "from statsmodels.formula.api import ols\n",
        "model = ols(\"mpg ~ wt\", data=mtcars)\n",
        "results = model.fit()\n",
        "results.summary()"
      ]
    },
    {
      "cell_type": "markdown",
      "metadata": {
        "id": "U6BIstnjXK3f"
      },
      "source": [
        "For plotting:\n",
        "\n",
        "- Continuous vs continuous (i.e. scatter plot), but also\n",
        "- Continuous vs categorical, or \n",
        "- Categorical vs continuous\n",
        "\n",
        "**Y-Axis**\n",
        "- Dependent variable (i.e. _dependent_ on the indpendent variable)\n",
        "- Response (i.e. the _outcome_)\n",
        "- f(x) (i.e. y _as a function of_ x)\n",
        "\n",
        "**X-Axis**\n",
        "- Independent variable (i.e. decided upon by the experimenter)\n",
        "- Predictor (a variable that _predicts_ a specific resonse, i.e. y)"
      ]
    },
    {
      "cell_type": "markdown",
      "metadata": {
        "id": "gZgDZQnbL8y5"
      },
      "source": [
        "3. Convert `wt` column from pounds to kg (bouns points for adding it to the DataFrame)."
      ]
    },
    {
      "cell_type": "code",
      "execution_count": null,
      "metadata": {
        "id": "HnjWfwxdMAgB"
      },
      "outputs": [],
      "source": [
        "# Avoid making unnecessary new objects that are separate from your DataFrame\n",
        "#twocol = mtcars[['mpg','wt']]\n",
        "#twocol['kilo'] = y/2.2046\n",
        "#twocol"
      ]
    },
    {
      "cell_type": "code",
      "execution_count": 117,
      "metadata": {
        "colab": {
          "base_uri": "https://localhost:8080/",
          "height": 611
        },
        "id": "2hsMXVz4boLs",
        "outputId": "11672dd1-50fa-42a4-b772-7748995e9cf9"
      },
      "outputs": [
        {
          "data": {
            "text/plain": [
              "0     2.620\n",
              "1     2.875\n",
              "2     2.320\n",
              "3     3.215\n",
              "4     3.440\n",
              "5     3.460\n",
              "6     3.570\n",
              "7     3.190\n",
              "8     3.150\n",
              "9     3.440\n",
              "10    3.440\n",
              "11    4.070\n",
              "12    3.730\n",
              "13    3.780\n",
              "14    5.250\n",
              "15    5.424\n",
              "16    5.345\n",
              "17    2.200\n",
              "18    1.615\n",
              "19    1.835\n",
              "20    2.465\n",
              "21    3.520\n",
              "22    3.435\n",
              "23    3.840\n",
              "24    3.845\n",
              "25    1.935\n",
              "26    2.140\n",
              "27    1.513\n",
              "28    3.170\n",
              "29    2.770\n",
              "30    3.570\n",
              "31    2.780\n",
              "Name: wt, dtype: float64"
            ]
          },
          "execution_count": 117,
          "metadata": {},
          "output_type": "execute_result"
        }
      ],
      "source": [
        "mtcars[\"wt\"]"
      ]
    },
    {
      "cell_type": "code",
      "execution_count": null,
      "metadata": {
        "colab": {
          "base_uri": "https://localhost:8080/",
          "height": 611
        },
        "id": "fi-BI1m_bb7h",
        "outputId": "f9b9b999-34bd-4c51-f4e3-5ae37c8f46df"
      },
      "outputs": [
        {
          "data": {
            "text/plain": [
              "0     1.188424\n",
              "1     1.304091\n",
              "2     1.052345\n",
              "3     1.458314\n",
              "4     1.560374\n",
              "5     1.569446\n",
              "6     1.619341\n",
              "7     1.446975\n",
              "8     1.428831\n",
              "9     1.560374\n",
              "10    1.560374\n",
              "11    1.846140\n",
              "12    1.691917\n",
              "13    1.714597\n",
              "14    2.381384\n",
              "15    2.460310\n",
              "16    2.424476\n",
              "17    0.997913\n",
              "18    0.732559\n",
              "19    0.832351\n",
              "20    1.118117\n",
              "21    1.596662\n",
              "22    1.558106\n",
              "23    1.741813\n",
              "24    1.744081\n",
              "25    0.877710\n",
              "26    0.970698\n",
              "27    0.686292\n",
              "28    1.437903\n",
              "29    1.256464\n",
              "30    1.619341\n",
              "31    1.261000\n",
              "Name: wt, dtype: float64"
            ]
          },
          "execution_count": 121,
          "metadata": {
            "tags": []
          },
          "output_type": "execute_result"
        }
      ],
      "source": [
        "mtcars[\"wt\"].apply(lambda x: x/2.2046)"
      ]
    },
    {
      "cell_type": "code",
      "execution_count": null,
      "metadata": {
        "id": "1EZMrRJ4bx7T"
      },
      "outputs": [],
      "source": [
        "mtcars['wt_kg'] = mtcars['wt']/2.2046226218"
      ]
    },
    {
      "cell_type": "code",
      "execution_count": null,
      "metadata": {
        "id": "__QrmSRgckZs"
      },
      "outputs": [],
      "source": [
        "# Alternatvely:\n",
        "# mtcars['wt_kg_2'] = mtcars['wt']*0.453592"
      ]
    },
    {
      "cell_type": "markdown",
      "metadata": {
        "id": "9h0FwTnXcZzy"
      },
      "source": [
        "# Indexing\n"
      ]
    },
    {
      "cell_type": "code",
      "execution_count": null,
      "metadata": {
        "colab": {
          "base_uri": "https://localhost:8080/",
          "height": 233
        },
        "id": "h_Au8NxkdyjF",
        "outputId": "dd26de41-60e7-4e02-e1e8-8b0c75da4e77"
      },
      "outputs": [
        {
          "data": {
            "text/html": [
              "<div>\n",
              "<style scoped>\n",
              "    .dataframe tbody tr th:only-of-type {\n",
              "        vertical-align: middle;\n",
              "    }\n",
              "\n",
              "    .dataframe tbody tr th {\n",
              "        vertical-align: top;\n",
              "    }\n",
              "\n",
              "    .dataframe thead th {\n",
              "        text-align: right;\n",
              "    }\n",
              "</style>\n",
              "<table border=\"1\" class=\"dataframe\">\n",
              "  <thead>\n",
              "    <tr style=\"text-align: right;\">\n",
              "      <th></th>\n",
              "      <th>healthy</th>\n",
              "      <th>tissue</th>\n",
              "      <th>quantity</th>\n",
              "      <th>new</th>\n",
              "    </tr>\n",
              "  </thead>\n",
              "  <tbody>\n",
              "    <tr>\n",
              "      <th>0</th>\n",
              "      <td>True</td>\n",
              "      <td>Liver</td>\n",
              "      <td>13</td>\n",
              "      <td>0</td>\n",
              "    </tr>\n",
              "    <tr>\n",
              "      <th>1</th>\n",
              "      <td>False</td>\n",
              "      <td>Brain</td>\n",
              "      <td>88</td>\n",
              "      <td>0</td>\n",
              "    </tr>\n",
              "    <tr>\n",
              "      <th>2</th>\n",
              "      <td>False</td>\n",
              "      <td>Testes</td>\n",
              "      <td>1233</td>\n",
              "      <td>0</td>\n",
              "    </tr>\n",
              "    <tr>\n",
              "      <th>3</th>\n",
              "      <td>True</td>\n",
              "      <td>Muscle</td>\n",
              "      <td>55</td>\n",
              "      <td>0</td>\n",
              "    </tr>\n",
              "    <tr>\n",
              "      <th>4</th>\n",
              "      <td>True</td>\n",
              "      <td>Intestine</td>\n",
              "      <td>233</td>\n",
              "      <td>0</td>\n",
              "    </tr>\n",
              "    <tr>\n",
              "      <th>5</th>\n",
              "      <td>False</td>\n",
              "      <td>Heart</td>\n",
              "      <td>18</td>\n",
              "      <td>0</td>\n",
              "    </tr>\n",
              "  </tbody>\n",
              "</table>\n",
              "</div>"
            ],
            "text/plain": [
              "   healthy     tissue  quantity  new\n",
              "0     True      Liver        13    0\n",
              "1    False      Brain        88    0\n",
              "2    False     Testes      1233    0\n",
              "3     True     Muscle        55    0\n",
              "4     True  Intestine       233    0\n",
              "5    False      Heart        18    0"
            ]
          },
          "execution_count": 124,
          "metadata": {
            "tags": []
          },
          "output_type": "execute_result"
        }
      ],
      "source": [
        "foo_df"
      ]
    },
    {
      "cell_type": "code",
      "execution_count": null,
      "metadata": {
        "colab": {
          "base_uri": "https://localhost:8080/",
          "height": 143
        },
        "id": "1I0KixJqd6v8",
        "outputId": "64e59922-a9d7-41b4-d058-89aa629687ab"
      },
      "outputs": [
        {
          "data": {
            "text/plain": [
              "0        Liver\n",
              "1        Brain\n",
              "2       Testes\n",
              "3       Muscle\n",
              "4    Intestine\n",
              "5        Heart\n",
              "Name: tissue, dtype: object"
            ]
          },
          "execution_count": 125,
          "metadata": {
            "tags": []
          },
          "output_type": "execute_result"
        }
      ],
      "source": [
        "foo_df['tissue']"
      ]
    },
    {
      "cell_type": "code",
      "execution_count": null,
      "metadata": {
        "colab": {
          "base_uri": "https://localhost:8080/",
          "height": 233
        },
        "id": "FK86PJSud7ir",
        "outputId": "3f865bbc-42cb-40d7-a498-0d9c63d840da"
      },
      "outputs": [
        {
          "data": {
            "text/html": [
              "<div>\n",
              "<style scoped>\n",
              "    .dataframe tbody tr th:only-of-type {\n",
              "        vertical-align: middle;\n",
              "    }\n",
              "\n",
              "    .dataframe tbody tr th {\n",
              "        vertical-align: top;\n",
              "    }\n",
              "\n",
              "    .dataframe thead th {\n",
              "        text-align: right;\n",
              "    }\n",
              "</style>\n",
              "<table border=\"1\" class=\"dataframe\">\n",
              "  <thead>\n",
              "    <tr style=\"text-align: right;\">\n",
              "      <th></th>\n",
              "      <th>tissue</th>\n",
              "    </tr>\n",
              "  </thead>\n",
              "  <tbody>\n",
              "    <tr>\n",
              "      <th>0</th>\n",
              "      <td>Liver</td>\n",
              "    </tr>\n",
              "    <tr>\n",
              "      <th>1</th>\n",
              "      <td>Brain</td>\n",
              "    </tr>\n",
              "    <tr>\n",
              "      <th>2</th>\n",
              "      <td>Testes</td>\n",
              "    </tr>\n",
              "    <tr>\n",
              "      <th>3</th>\n",
              "      <td>Muscle</td>\n",
              "    </tr>\n",
              "    <tr>\n",
              "      <th>4</th>\n",
              "      <td>Intestine</td>\n",
              "    </tr>\n",
              "    <tr>\n",
              "      <th>5</th>\n",
              "      <td>Heart</td>\n",
              "    </tr>\n",
              "  </tbody>\n",
              "</table>\n",
              "</div>"
            ],
            "text/plain": [
              "      tissue\n",
              "0      Liver\n",
              "1      Brain\n",
              "2     Testes\n",
              "3     Muscle\n",
              "4  Intestine\n",
              "5      Heart"
            ]
          },
          "execution_count": 126,
          "metadata": {
            "tags": []
          },
          "output_type": "execute_result"
        }
      ],
      "source": [
        "foo_df[['tissue']]"
      ]
    },
    {
      "cell_type": "code",
      "execution_count": null,
      "metadata": {
        "colab": {
          "base_uri": "https://localhost:8080/",
          "height": 143
        },
        "id": "mWsGqZkDeFex",
        "outputId": "1f08f1a4-4871-4b97-9b29-6bc2155aed72"
      },
      "outputs": [
        {
          "data": {
            "text/plain": [
              "0        Liver\n",
              "1        Brain\n",
              "2       Testes\n",
              "3       Muscle\n",
              "4    Intestine\n",
              "5        Heart\n",
              "Name: tissue, dtype: object"
            ]
          },
          "execution_count": 127,
          "metadata": {
            "tags": []
          },
          "output_type": "execute_result"
        }
      ],
      "source": [
        "foo_df.tissue"
      ]
    },
    {
      "cell_type": "markdown",
      "metadata": {
        "id": "1rT0C68meMr8"
      },
      "source": [
        "index position as number with `.iloc[]`"
      ]
    },
    {
      "cell_type": "code",
      "execution_count": null,
      "metadata": {
        "colab": {
          "base_uri": "https://localhost:8080/",
          "height": 107
        },
        "id": "7QjivBo5eMEY",
        "outputId": "de288380-1818-4b0c-c1fa-2ff9738e4142"
      },
      "outputs": [
        {
          "data": {
            "text/plain": [
              "healthy      True\n",
              "tissue      Liver\n",
              "quantity       13\n",
              "new             0\n",
              "Name: 0, dtype: object"
            ]
          },
          "execution_count": 128,
          "metadata": {
            "tags": []
          },
          "output_type": "execute_result"
        }
      ],
      "source": [
        "# First row, as a Series\n",
        "foo_df.iloc[0] "
      ]
    },
    {
      "cell_type": "code",
      "execution_count": null,
      "metadata": {
        "colab": {
          "base_uri": "https://localhost:8080/",
          "height": 79
        },
        "id": "ZtKeZEMmeZWd",
        "outputId": "01d564ac-44ec-4db5-e733-c1155e283fc1"
      },
      "outputs": [
        {
          "data": {
            "text/html": [
              "<div>\n",
              "<style scoped>\n",
              "    .dataframe tbody tr th:only-of-type {\n",
              "        vertical-align: middle;\n",
              "    }\n",
              "\n",
              "    .dataframe tbody tr th {\n",
              "        vertical-align: top;\n",
              "    }\n",
              "\n",
              "    .dataframe thead th {\n",
              "        text-align: right;\n",
              "    }\n",
              "</style>\n",
              "<table border=\"1\" class=\"dataframe\">\n",
              "  <thead>\n",
              "    <tr style=\"text-align: right;\">\n",
              "      <th></th>\n",
              "      <th>healthy</th>\n",
              "      <th>tissue</th>\n",
              "      <th>quantity</th>\n",
              "      <th>new</th>\n",
              "    </tr>\n",
              "  </thead>\n",
              "  <tbody>\n",
              "    <tr>\n",
              "      <th>0</th>\n",
              "      <td>True</td>\n",
              "      <td>Liver</td>\n",
              "      <td>13</td>\n",
              "      <td>0</td>\n",
              "    </tr>\n",
              "  </tbody>\n",
              "</table>\n",
              "</div>"
            ],
            "text/plain": [
              "   healthy tissue  quantity  new\n",
              "0     True  Liver        13    0"
            ]
          },
          "execution_count": 129,
          "metadata": {
            "tags": []
          },
          "output_type": "execute_result"
        }
      ],
      "source": [
        "# First row, as a DataFrame\n",
        "foo_df.iloc[[0]] "
      ]
    },
    {
      "cell_type": "code",
      "execution_count": null,
      "metadata": {
        "colab": {
          "base_uri": "https://localhost:8080/",
          "height": 110
        },
        "id": "dXcLRq9Kel2S",
        "outputId": "324b7d31-1e2e-4116-d206-73c3891e94a9"
      },
      "outputs": [
        {
          "data": {
            "text/html": [
              "<div>\n",
              "<style scoped>\n",
              "    .dataframe tbody tr th:only-of-type {\n",
              "        vertical-align: middle;\n",
              "    }\n",
              "\n",
              "    .dataframe tbody tr th {\n",
              "        vertical-align: top;\n",
              "    }\n",
              "\n",
              "    .dataframe thead th {\n",
              "        text-align: right;\n",
              "    }\n",
              "</style>\n",
              "<table border=\"1\" class=\"dataframe\">\n",
              "  <thead>\n",
              "    <tr style=\"text-align: right;\">\n",
              "      <th></th>\n",
              "      <th>healthy</th>\n",
              "      <th>tissue</th>\n",
              "      <th>quantity</th>\n",
              "      <th>new</th>\n",
              "    </tr>\n",
              "  </thead>\n",
              "  <tbody>\n",
              "    <tr>\n",
              "      <th>0</th>\n",
              "      <td>True</td>\n",
              "      <td>Liver</td>\n",
              "      <td>13</td>\n",
              "      <td>0</td>\n",
              "    </tr>\n",
              "    <tr>\n",
              "      <th>1</th>\n",
              "      <td>False</td>\n",
              "      <td>Brain</td>\n",
              "      <td>88</td>\n",
              "      <td>0</td>\n",
              "    </tr>\n",
              "  </tbody>\n",
              "</table>\n",
              "</div>"
            ],
            "text/plain": [
              "   healthy tissue  quantity  new\n",
              "0     True  Liver        13    0\n",
              "1    False  Brain        88    0"
            ]
          },
          "execution_count": 130,
          "metadata": {
            "tags": []
          },
          "output_type": "execute_result"
        }
      ],
      "source": [
        "foo_df.iloc[[0, 1]] "
      ]
    },
    {
      "cell_type": "markdown",
      "metadata": {
        "id": "faNv8oSDeyz8"
      },
      "source": [
        "Using two dimensions:"
      ]
    },
    {
      "cell_type": "code",
      "execution_count": null,
      "metadata": {
        "colab": {
          "base_uri": "https://localhost:8080/",
          "height": 107
        },
        "id": "CC4q4YLaex0Y",
        "outputId": "3915cef6-3a79-442d-e4cb-f426dea4729b"
      },
      "outputs": [
        {
          "data": {
            "text/plain": [
              "healthy      True\n",
              "tissue      Liver\n",
              "quantity       13\n",
              "new             0\n",
              "Name: 0, dtype: object"
            ]
          },
          "execution_count": 131,
          "metadata": {
            "tags": []
          },
          "output_type": "execute_result"
        }
      ],
      "source": [
        "# To get all columns, use : after the comma\n",
        "foo_df.iloc[0,:] # : == everything "
      ]
    },
    {
      "cell_type": "code",
      "execution_count": null,
      "metadata": {
        "id": "LK3wM-PlfM3g"
      },
      "outputs": [],
      "source": [
        "# Valid\n",
        "# foo_df.iloc[0,]"
      ]
    },
    {
      "cell_type": "markdown",
      "metadata": {
        "id": "tgCP9N-ofZgy"
      },
      "source": [
        "Indexing begins at 0 and is _exclusive_"
      ]
    },
    {
      "cell_type": "code",
      "execution_count": null,
      "metadata": {
        "colab": {
          "base_uri": "https://localhost:8080/",
          "height": 233
        },
        "id": "H9TViCT0fZ9v",
        "outputId": "225f848f-1309-4566-99b1-b719b125a779"
      },
      "outputs": [
        {
          "data": {
            "text/html": [
              "<div>\n",
              "<style scoped>\n",
              "    .dataframe tbody tr th:only-of-type {\n",
              "        vertical-align: middle;\n",
              "    }\n",
              "\n",
              "    .dataframe tbody tr th {\n",
              "        vertical-align: top;\n",
              "    }\n",
              "\n",
              "    .dataframe thead th {\n",
              "        text-align: right;\n",
              "    }\n",
              "</style>\n",
              "<table border=\"1\" class=\"dataframe\">\n",
              "  <thead>\n",
              "    <tr style=\"text-align: right;\">\n",
              "      <th></th>\n",
              "      <th>healthy</th>\n",
              "      <th>tissue</th>\n",
              "    </tr>\n",
              "  </thead>\n",
              "  <tbody>\n",
              "    <tr>\n",
              "      <th>0</th>\n",
              "      <td>True</td>\n",
              "      <td>Liver</td>\n",
              "    </tr>\n",
              "    <tr>\n",
              "      <th>1</th>\n",
              "      <td>False</td>\n",
              "      <td>Brain</td>\n",
              "    </tr>\n",
              "    <tr>\n",
              "      <th>2</th>\n",
              "      <td>False</td>\n",
              "      <td>Testes</td>\n",
              "    </tr>\n",
              "    <tr>\n",
              "      <th>3</th>\n",
              "      <td>True</td>\n",
              "      <td>Muscle</td>\n",
              "    </tr>\n",
              "    <tr>\n",
              "      <th>4</th>\n",
              "      <td>True</td>\n",
              "      <td>Intestine</td>\n",
              "    </tr>\n",
              "    <tr>\n",
              "      <th>5</th>\n",
              "      <td>False</td>\n",
              "      <td>Heart</td>\n",
              "    </tr>\n",
              "  </tbody>\n",
              "</table>\n",
              "</div>"
            ],
            "text/plain": [
              "   healthy     tissue\n",
              "0     True      Liver\n",
              "1    False      Brain\n",
              "2    False     Testes\n",
              "3     True     Muscle\n",
              "4     True  Intestine\n",
              "5    False      Heart"
            ]
          },
          "execution_count": 133,
          "metadata": {
            "tags": []
          },
          "output_type": "execute_result"
        }
      ],
      "source": [
        "# The first two columns, all rows\n",
        "foo_df.iloc[:,:2] # 0, 1, and exclude 2"
      ]
    },
    {
      "cell_type": "code",
      "execution_count": null,
      "metadata": {
        "colab": {
          "base_uri": "https://localhost:8080/",
          "height": 143
        },
        "id": "L-Dehf4pgWIu",
        "outputId": "c35c5601-800d-49eb-9e1b-261b2758dc12"
      },
      "outputs": [
        {
          "data": {
            "text/plain": [
              "0        Liver\n",
              "1        Brain\n",
              "2       Testes\n",
              "3       Muscle\n",
              "4    Intestine\n",
              "5        Heart\n",
              "Name: tissue, dtype: object"
            ]
          },
          "execution_count": 134,
          "metadata": {
            "tags": []
          },
          "output_type": "execute_result"
        }
      ],
      "source": [
        "# One column as a Series\n",
        "foo_df.iloc[:,1]"
      ]
    },
    {
      "cell_type": "code",
      "execution_count": null,
      "metadata": {
        "colab": {
          "base_uri": "https://localhost:8080/",
          "height": 233
        },
        "id": "Ox9LGhIegeV7",
        "outputId": "4b79924f-98ee-41cd-9a0e-b76e5e0a6b1e"
      },
      "outputs": [
        {
          "data": {
            "text/html": [
              "<div>\n",
              "<style scoped>\n",
              "    .dataframe tbody tr th:only-of-type {\n",
              "        vertical-align: middle;\n",
              "    }\n",
              "\n",
              "    .dataframe tbody tr th {\n",
              "        vertical-align: top;\n",
              "    }\n",
              "\n",
              "    .dataframe thead th {\n",
              "        text-align: right;\n",
              "    }\n",
              "</style>\n",
              "<table border=\"1\" class=\"dataframe\">\n",
              "  <thead>\n",
              "    <tr style=\"text-align: right;\">\n",
              "      <th></th>\n",
              "      <th>tissue</th>\n",
              "    </tr>\n",
              "  </thead>\n",
              "  <tbody>\n",
              "    <tr>\n",
              "      <th>0</th>\n",
              "      <td>Liver</td>\n",
              "    </tr>\n",
              "    <tr>\n",
              "      <th>1</th>\n",
              "      <td>Brain</td>\n",
              "    </tr>\n",
              "    <tr>\n",
              "      <th>2</th>\n",
              "      <td>Testes</td>\n",
              "    </tr>\n",
              "    <tr>\n",
              "      <th>3</th>\n",
              "      <td>Muscle</td>\n",
              "    </tr>\n",
              "    <tr>\n",
              "      <th>4</th>\n",
              "      <td>Intestine</td>\n",
              "    </tr>\n",
              "    <tr>\n",
              "      <th>5</th>\n",
              "      <td>Heart</td>\n",
              "    </tr>\n",
              "  </tbody>\n",
              "</table>\n",
              "</div>"
            ],
            "text/plain": [
              "      tissue\n",
              "0      Liver\n",
              "1      Brain\n",
              "2     Testes\n",
              "3     Muscle\n",
              "4  Intestine\n",
              "5      Heart"
            ]
          },
          "execution_count": 135,
          "metadata": {
            "tags": []
          },
          "output_type": "execute_result"
        }
      ],
      "source": [
        "# The same, as a DataFrame\n",
        "foo_df.iloc[:,1:2]"
      ]
    },
    {
      "cell_type": "code",
      "execution_count": null,
      "metadata": {
        "colab": {
          "base_uri": "https://localhost:8080/",
          "height": 107
        },
        "id": "wL_i3XhAg-IM",
        "outputId": "0c567553-efc0-4408-a593-e662d6918282"
      },
      "outputs": [
        {
          "data": {
            "text/plain": [
              "healthy     False\n",
              "tissue      Heart\n",
              "quantity       18\n",
              "new             0\n",
              "Name: 5, dtype: object"
            ]
          },
          "execution_count": 136,
          "metadata": {
            "tags": []
          },
          "output_type": "execute_result"
        }
      ],
      "source": [
        "# counting from the opposite direction\n",
        "# -1 is the last row\n",
        "foo_df.iloc[-1,]\n",
        "# forward: 0  1  2  3  4  5\n",
        "# Reverse -6 -5 -4 -3 -2 -1"
      ]
    },
    {
      "cell_type": "code",
      "execution_count": null,
      "metadata": {
        "colab": {
          "base_uri": "https://localhost:8080/",
          "height": 233
        },
        "id": "KlrK6Ni2hEhK",
        "outputId": "275b4545-22c6-4754-939a-cda4a5796951"
      },
      "outputs": [
        {
          "data": {
            "text/html": [
              "<div>\n",
              "<style scoped>\n",
              "    .dataframe tbody tr th:only-of-type {\n",
              "        vertical-align: middle;\n",
              "    }\n",
              "\n",
              "    .dataframe tbody tr th {\n",
              "        vertical-align: top;\n",
              "    }\n",
              "\n",
              "    .dataframe thead th {\n",
              "        text-align: right;\n",
              "    }\n",
              "</style>\n",
              "<table border=\"1\" class=\"dataframe\">\n",
              "  <thead>\n",
              "    <tr style=\"text-align: right;\">\n",
              "      <th></th>\n",
              "      <th>healthy</th>\n",
              "      <th>tissue</th>\n",
              "      <th>quantity</th>\n",
              "      <th>new</th>\n",
              "    </tr>\n",
              "  </thead>\n",
              "  <tbody>\n",
              "    <tr>\n",
              "      <th>0</th>\n",
              "      <td>True</td>\n",
              "      <td>Liver</td>\n",
              "      <td>13</td>\n",
              "      <td>0</td>\n",
              "    </tr>\n",
              "    <tr>\n",
              "      <th>1</th>\n",
              "      <td>False</td>\n",
              "      <td>Brain</td>\n",
              "      <td>88</td>\n",
              "      <td>0</td>\n",
              "    </tr>\n",
              "    <tr>\n",
              "      <th>2</th>\n",
              "      <td>False</td>\n",
              "      <td>Testes</td>\n",
              "      <td>1233</td>\n",
              "      <td>0</td>\n",
              "    </tr>\n",
              "    <tr>\n",
              "      <th>3</th>\n",
              "      <td>True</td>\n",
              "      <td>Muscle</td>\n",
              "      <td>55</td>\n",
              "      <td>0</td>\n",
              "    </tr>\n",
              "    <tr>\n",
              "      <th>4</th>\n",
              "      <td>True</td>\n",
              "      <td>Intestine</td>\n",
              "      <td>233</td>\n",
              "      <td>0</td>\n",
              "    </tr>\n",
              "    <tr>\n",
              "      <th>5</th>\n",
              "      <td>False</td>\n",
              "      <td>Heart</td>\n",
              "      <td>18</td>\n",
              "      <td>0</td>\n",
              "    </tr>\n",
              "  </tbody>\n",
              "</table>\n",
              "</div>"
            ],
            "text/plain": [
              "   healthy     tissue  quantity  new\n",
              "0     True      Liver        13    0\n",
              "1    False      Brain        88    0\n",
              "2    False     Testes      1233    0\n",
              "3     True     Muscle        55    0\n",
              "4     True  Intestine       233    0\n",
              "5    False      Heart        18    0"
            ]
          },
          "execution_count": 137,
          "metadata": {
            "tags": []
          },
          "output_type": "execute_result"
        }
      ],
      "source": [
        "foo_df"
      ]
    },
    {
      "cell_type": "code",
      "execution_count": null,
      "metadata": {
        "colab": {
          "base_uri": "https://localhost:8080/",
          "height": 297
        },
        "id": "4pURflAri_5-",
        "outputId": "b51a9839-d6a3-4478-ae56-15cd33492082"
      },
      "outputs": [
        {
          "ename": "AttributeError",
          "evalue": "ignored",
          "output_type": "error",
          "traceback": [
            "\u001b[0;31m---------------------------------------------------------------------------\u001b[0m",
            "\u001b[0;31mAttributeError\u001b[0m                            Traceback (most recent call last)",
            "\u001b[0;32m<ipython-input-138-f243fb53f12f>\u001b[0m in \u001b[0;36m<module>\u001b[0;34m()\u001b[0m\n\u001b[0;32m----> 1\u001b[0;31m \u001b[0mfoo_df\u001b[0m\u001b[0;34m.\u001b[0m\u001b[0mreverse\u001b[0m\u001b[0;34m(\u001b[0m\u001b[0;34m)\u001b[0m\u001b[0;34m\u001b[0m\u001b[0;34m\u001b[0m\u001b[0m\n\u001b[0m",
            "\u001b[0;32m/usr/local/lib/python3.6/dist-packages/pandas/core/generic.py\u001b[0m in \u001b[0;36m__getattr__\u001b[0;34m(self, name)\u001b[0m\n\u001b[1;32m   5137\u001b[0m             \u001b[0;32mif\u001b[0m \u001b[0mself\u001b[0m\u001b[0;34m.\u001b[0m\u001b[0m_info_axis\u001b[0m\u001b[0;34m.\u001b[0m\u001b[0m_can_hold_identifiers_and_holds_name\u001b[0m\u001b[0;34m(\u001b[0m\u001b[0mname\u001b[0m\u001b[0;34m)\u001b[0m\u001b[0;34m:\u001b[0m\u001b[0;34m\u001b[0m\u001b[0;34m\u001b[0m\u001b[0m\n\u001b[1;32m   5138\u001b[0m                 \u001b[0;32mreturn\u001b[0m \u001b[0mself\u001b[0m\u001b[0;34m[\u001b[0m\u001b[0mname\u001b[0m\u001b[0;34m]\u001b[0m\u001b[0;34m\u001b[0m\u001b[0;34m\u001b[0m\u001b[0m\n\u001b[0;32m-> 5139\u001b[0;31m             \u001b[0;32mreturn\u001b[0m \u001b[0mobject\u001b[0m\u001b[0;34m.\u001b[0m\u001b[0m__getattribute__\u001b[0m\u001b[0;34m(\u001b[0m\u001b[0mself\u001b[0m\u001b[0;34m,\u001b[0m \u001b[0mname\u001b[0m\u001b[0;34m)\u001b[0m\u001b[0;34m\u001b[0m\u001b[0;34m\u001b[0m\u001b[0m\n\u001b[0m\u001b[1;32m   5140\u001b[0m \u001b[0;34m\u001b[0m\u001b[0m\n\u001b[1;32m   5141\u001b[0m     \u001b[0;32mdef\u001b[0m \u001b[0m__setattr__\u001b[0m\u001b[0;34m(\u001b[0m\u001b[0mself\u001b[0m\u001b[0;34m,\u001b[0m \u001b[0mname\u001b[0m\u001b[0;34m:\u001b[0m \u001b[0mstr\u001b[0m\u001b[0;34m,\u001b[0m \u001b[0mvalue\u001b[0m\u001b[0;34m)\u001b[0m \u001b[0;34m->\u001b[0m \u001b[0;32mNone\u001b[0m\u001b[0;34m:\u001b[0m\u001b[0;34m\u001b[0m\u001b[0;34m\u001b[0m\u001b[0m\n",
            "\u001b[0;31mAttributeError\u001b[0m: 'DataFrame' object has no attribute 'reverse'"
          ]
        }
      ],
      "source": [
        "foo_df.reverse()"
      ]
    },
    {
      "cell_type": "markdown",
      "metadata": {
        "id": "2aeeuzGKhtSM"
      },
      "source": [
        "**Exercise 5.1**\n",
        "\n",
        "Using foo_df, retreive:"
      ]
    },
    {
      "cell_type": "markdown",
      "metadata": {
        "id": "3gkgEit5hwxK"
      },
      "source": [
        "The 2nd to 3rd rows"
      ]
    },
    {
      "cell_type": "code",
      "execution_count": null,
      "metadata": {
        "id": "I2GC1DSZh5eN"
      },
      "outputs": [],
      "source": [
        "# foo_df.iloc[2:3, :] # only the 3rd row\n",
        "# foo_df.iloc[[2,3],:] # the 3rd & the 4th row using a list\n",
        "# foo_df.iloc[2:4] # the 3rd & the 4th row using : notation\n",
        "# foo_df.iloc[0:2,]  # 1st & 2nd rows\n",
        "# foo_df[-1:2,:] # Computer says \"no\"\n",
        "# foo_df.iloc[3:,:] # 4th to the end \n",
        "\n",
        "# yes :)\n",
        "foo_df.iloc[[1, 2]]  # 2nd & 3rd rows using a list\n",
        "# foo_df.iloc[1:3,:] # 2nd & 3rd rows using : notation\n"
      ]
    },
    {
      "cell_type": "markdown",
      "metadata": {
        "id": "jxYgpqoNh6N3"
      },
      "source": [
        "The last 2 rows"
      ]
    },
    {
      "cell_type": "code",
      "execution_count": null,
      "metadata": {
        "id": "cB4goDSyh77X"
      },
      "outputs": [],
      "source": [
        "foo_df[-2:]"
      ]
    },
    {
      "cell_type": "code",
      "execution_count": null,
      "metadata": {
        "id": "9M3rZijiuCrf"
      },
      "outputs": [],
      "source": [
        "# The last two no matter how long\n",
        "foo_df.iloc[-2:]\n",
        "# foo_df.iloc[[-1,-2],:] # specify the order with a list"
      ]
    },
    {
      "cell_type": "code",
      "execution_count": null,
      "metadata": {
        "id": "tEymDaMuuNHS"
      },
      "outputs": [],
      "source": [
        "# Hard coding positions\n",
        "# foo_df.iloc[ [4, 5],:]\n",
        "# foo_df.iloc[4:,:] "
      ]
    },
    {
      "cell_type": "markdown",
      "metadata": {
        "id": "khTgYvgIh8PH"
      },
      "source": [
        "A random row in foo_df"
      ]
    },
    {
      "cell_type": "code",
      "execution_count": null,
      "metadata": {
        "id": "ybcMSquchwE8"
      },
      "outputs": [],
      "source": [
        "# import random\n",
        "# foo_df.iloc[[random.randrange(0, len(foo_df))]]\n",
        "foo_df.sample()"
      ]
    },
    {
      "cell_type": "markdown",
      "metadata": {
        "id": "Ltv6VFJgh-Wl"
      },
      "source": [
        "From the 4th to the last row\n",
        "(But without hard-coding, i.e. regardless of how many rows my data frame contains)"
      ]
    },
    {
      "cell_type": "code",
      "execution_count": null,
      "metadata": {
        "id": "MLMO1tnEh-9Z"
      },
      "outputs": [],
      "source": [
        "# foo_df[3:]\n",
        "foo_df.iloc[3:,:]\n"
      ]
    },
    {
      "cell_type": "markdown",
      "metadata": {
        "id": "-f9j1cpjtcAx"
      },
      "source": [
        "** Exercise 5.2**\n",
        "\n",
        "Using `.iloc()` with:\n",
        "\n"
      ]
    },
    {
      "cell_type": "code",
      "execution_count": null,
      "metadata": {
        "id": "OOIlwxArtoBJ"
      },
      "outputs": [],
      "source": [
        "# Integers? yes :)\n",
        "foo_df.iloc[4,]\n"
      ]
    },
    {
      "cell_type": "code",
      "execution_count": null,
      "metadata": {
        "id": "pr4GRZZDtssU"
      },
      "outputs": [],
      "source": [
        "# Floats? Computer says no\n",
        "# foo_df[0.1:]"
      ]
    },
    {
      "cell_type": "code",
      "execution_count": null,
      "metadata": {
        "id": "dK5Tthd7tt9H"
      },
      "outputs": [],
      "source": [
        "# Strings (Characters)? Computer says \"no\"\n",
        "# foo_df.iloc[:,'tissue']\n",
        "# foo_df.iloc['Brain'] # need to look inside the tissue column\n",
        "# foo_df.iloc['A'] # No is no 'A' anyways\n",
        "# foo_df[heart:]   # No object defined "
      ]
    },
    {
      "cell_type": "code",
      "execution_count": null,
      "metadata": {
        "id": "KpLxJCpGtvT4"
      },
      "outputs": [],
      "source": [
        "# A heterogenous list? Computer says \"no\"\n",
        "# foo_df.iloc[:,[1, 'quantity']]\n",
        "\n"
      ]
    },
    {
      "cell_type": "code",
      "execution_count": null,
      "metadata": {
        "id": "u2C8n_t0twdu"
      },
      "outputs": [],
      "source": [
        "# A homogenous list?\n",
        "foo_df.iloc[[1,4,-1,-1,3,2,0]]\n"
      ]
    },
    {
      "cell_type": "markdown",
      "metadata": {
        "id": "1ULmqL8kwvKb"
      },
      "source": [
        "**Exercise 5.3**"
      ]
    },
    {
      "cell_type": "markdown",
      "metadata": {
        "id": "CpJp83Oxyh3C"
      },
      "source": [
        "Use indexing to obtain all the odd rows\n"
      ]
    },
    {
      "cell_type": "code",
      "execution_count": null,
      "metadata": {
        "id": "-2nfrIm6yspg"
      },
      "outputs": [],
      "source": [
        "foo_df.iloc[1::2] # 2nd, 4th, 6th"
      ]
    },
    {
      "cell_type": "code",
      "execution_count": null,
      "metadata": {
        "id": "K12HmWe20_AT"
      },
      "outputs": [],
      "source": [
        "foo_df.iloc[lambda x: x.index % 2 == 1]"
      ]
    },
    {
      "cell_type": "code",
      "execution_count": null,
      "metadata": {
        "id": "IFvBy59E1dyX"
      },
      "outputs": [],
      "source": [
        "foo_df[foo_df.index % 2 != 0]"
      ]
    },
    {
      "cell_type": "markdown",
      "metadata": {
        "id": "ZKy9mWyqyq-u"
      },
      "source": [
        "Use indexing to obtain all the even rows"
      ]
    },
    {
      "cell_type": "code",
      "execution_count": null,
      "metadata": {
        "id": "n4uRY4k5ytHu"
      },
      "outputs": [],
      "source": [
        "foo_df.iloc[::2] # 1st, 3rd, 5th"
      ]
    },
    {
      "cell_type": "code",
      "execution_count": null,
      "metadata": {
        "id": "2tIb9FYx1Oey"
      },
      "outputs": [],
      "source": [
        "foo_df.iloc[lambda x: x.index % 2 == 0]"
      ]
    },
    {
      "cell_type": "markdown",
      "metadata": {
        "id": "Bt8bQQ_S1zTW"
      },
      "source": [
        "# Logical Expressions\n",
        "\n",
        "Relational and logical operators"
      ]
    },
    {
      "cell_type": "code",
      "execution_count": null,
      "metadata": {
        "id": "EZreeLnZ2LOi"
      },
      "outputs": [],
      "source": [
        "foo_df[foo_df.quantity >= 233]"
      ]
    },
    {
      "cell_type": "code",
      "execution_count": null,
      "metadata": {
        "id": "OuSxIRRf2T_t"
      },
      "outputs": [],
      "source": [
        "foo_df[(foo_df.tissue == \"Heart\") | (foo_df.quantity >= 233)]"
      ]
    },
    {
      "cell_type": "markdown",
      "metadata": {
        "id": "ENRJOaEg22Rb"
      },
      "source": [
        "**Exercise 5.4**\n",
        "\n",
        "Only “healthy” samples.\n"
      ]
    },
    {
      "cell_type": "code",
      "execution_count": null,
      "metadata": {
        "id": "yleRlep63K7z"
      },
      "outputs": [],
      "source": [
        "foo_df[foo_df.healthy]\n"
      ]
    },
    {
      "cell_type": "markdown",
      "metadata": {
        "id": "WhVeoHQS26-n"
      },
      "source": [
        "Only “unhealthy” samples.\n"
      ]
    },
    {
      "cell_type": "code",
      "execution_count": null,
      "metadata": {
        "id": "IbQY6Ui43Len"
      },
      "outputs": [],
      "source": [
        "foo_df[-foo_df.healthy] \n"
      ]
    },
    {
      "cell_type": "code",
      "execution_count": null,
      "metadata": {
        "id": "_tEpQKJW4WBy"
      },
      "outputs": [],
      "source": [
        "foo_df[~foo_df.healthy] \n"
      ]
    },
    {
      "cell_type": "markdown",
      "metadata": {
        "id": "jdNQD1i_28HZ"
      },
      "source": [
        "**Exercise 5.5**\n",
        "\n",
        "\n",
        "Only low quantity samples, those below 100."
      ]
    },
    {
      "cell_type": "code",
      "execution_count": null,
      "metadata": {
        "id": "CAuRnYc_3hFl"
      },
      "outputs": [],
      "source": []
    },
    {
      "cell_type": "markdown",
      "metadata": {
        "id": "4XW2JDsQ3C92"
      },
      "source": [
        "Midrange: Quantity between 100 and 1000,\n"
      ]
    },
    {
      "cell_type": "code",
      "execution_count": null,
      "metadata": {
        "id": "WaEL26P13gru"
      },
      "outputs": [],
      "source": []
    },
    {
      "cell_type": "markdown",
      "metadata": {
        "id": "zyarLo_x3EFa"
      },
      "source": [
        "Tails of the distribution: Quantity below 100 and beyond 1000.\n"
      ]
    },
    {
      "cell_type": "code",
      "execution_count": null,
      "metadata": {
        "id": "wm0DxtDV3gSI"
      },
      "outputs": [],
      "source": []
    },
    {
      "cell_type": "markdown",
      "metadata": {
        "id": "sIRAl8653FIi"
      },
      "source": [
        "**Exercise 5.6**\n",
        "\n",
        "Only “Heart” samples."
      ]
    },
    {
      "cell_type": "code",
      "execution_count": null,
      "metadata": {
        "id": "VQk14r1T3fuy"
      },
      "outputs": [],
      "source": []
    },
    {
      "cell_type": "markdown",
      "metadata": {
        "id": "OUxjcaJH3IYh"
      },
      "source": [
        "“Heart” and “liver” samples\n"
      ]
    },
    {
      "cell_type": "code",
      "execution_count": null,
      "metadata": {
        "id": "FkSPZ0RM3MpK"
      },
      "outputs": [],
      "source": []
    },
    {
      "cell_type": "markdown",
      "metadata": {
        "id": "JcDYOhf13Jku"
      },
      "source": [
        "Everything except “intestines”\n"
      ]
    },
    {
      "cell_type": "code",
      "execution_count": null,
      "metadata": {
        "id": "6WnDvENh3MNG"
      },
      "outputs": [],
      "source": []
    }
  ],
  "metadata": {
    "colab": {
      "name": "3-Python Fundamentals from Colab.ipynb",
      "provenance": []
    },
    "interpreter": {
      "hash": "959fe99a17e535d3ef2cbf2151b24345fc9936c2becf6d2a6d2ecac7f5b2581b"
    },
    "kernelspec": {
      "display_name": "Python 3.8.6 64-bit ('.venv': venv)",
      "name": "python3"
    },
    "language_info": {
      "codemirror_mode": {
        "name": "ipython",
        "version": 3
      },
      "file_extension": ".py",
      "mimetype": "text/x-python",
      "name": "python",
      "nbconvert_exporter": "python",
      "pygments_lexer": "ipython3",
      "version": "3.8.6"
    }
  },
  "nbformat": 4,
  "nbformat_minor": 2
}
